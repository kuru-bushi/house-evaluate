{
 "cells": [
  {
   "cell_type": "code",
   "execution_count": null,
   "id": "7d4904b7",
   "metadata": {},
   "outputs": [],
   "source": [
    "import sympy as sp\n",
    "\n",
    "def perpendicular_line_through_origin(a, b, c):\n",
    "    \"\"\"\n",
    "    平面 ax + by + cz = 0 に直角で、原点 (0, 0, 0) を通る直線の\n",
    "    媒介変数表示の数式を計算し、文字列として返します。\n",
    "\n",
    "    Args:\n",
    "        a, b, c (float): 平面の方程式の係数。\n",
    "\n",
    "    Returns:\n",
    "        str: 媒介変数表示の数式を表す文字列。\n",
    "    \"\"\"\n",
    "    # 媒介変数 t を定義\n",
    "    t = sp.Symbol('t')\n",
    "\n",
    "    # 平面の法線ベクトル (a, b, c) が直線の方向ベクトルになる\n",
    "    \n",
    "    # 係数がすべて 0 の場合は、方向が定義できません。\n",
    "    if a == 0 and b == 0 and c == 0:\n",
    "        return \"エラー: 係数 a, b, c の全てが 0 のため、直線の方向ベクトルが定義できません。\"\n",
    "\n",
    "    # 直線の数式 (媒介変数表示)\n",
    "    # 通る点 (x0, y0, z0) = (0, 0, 0)\n",
    "    # 方向ベクトル (l, m, n) = (a, b, c)\n",
    "    x = 0 + a * t\n",
    "    y = 0 + b * t\n",
    "    z = 0 + c * t\n",
    "\n",
    "    # 数式を文字列としてフォーマット\n",
    "    line_eq = (\n",
    "        f\"x = {a} * t\",\n",
    "        f\"y = {b} * t\",\n",
    "        f\"z = {c} * t\"\n",
    "    )\n",
    "    \n",
    "    return \"{\" + \", \".join(line_eq) + \"}\"\n",
    "\n",
    "# --- 使用例 ---\n",
    "\n",
    "# 例 1: 標準的な平面 x + 2y + 3z = 0\n",
    "a1, b1, c1 = 1, 2, 3\n",
    "line1 = perpendicular_line_through_origin(a1, b1, c1)\n",
    "print(f\"--- 平面: {a1}x + {b1}y + {c1}z = 0 ---\")\n",
    "print(f\"直角な直線の数式 (媒介変数表示): {line1}\")\n",
    "print(\"-\" * 30)\n",
    "\n",
    "# 例 2: yz 平面 (x=0) に直角な直線 (x 軸)\n",
    "a2, b2, c2 = 1, 0, 0\n",
    "line2 = perpendicular_line_through_origin(a2, b2, c2)\n",
    "print(f\"--- 平面: {a2}x + {b2}y + {c2}z = 0 ---\")\n",
    "print(f\"直角な直線の数式 (媒介変数表示): {line2}\") # {x = 1 * t, y = 0 * t, z = 0 * t} → x = t (x軸)\n",
    "print(\"-\" * 30)"
   ]
  },
  {
   "cell_type": "markdown",
   "id": "b5062cc9",
   "metadata": {},
   "source": [
    "解説直角な方向: \n",
    "平面の方程式 $ax + by + cz = 0$ から、この平面の法線ベクトル（面に垂直なベクトル）は $\\vec{n} = (a, b, c)$ です。平面に直角な直線は、この $\\vec{n}$ を方向ベクトルとして持ちます。媒介変数表示: 3次元空間において、点 $\\vec{p}_0 = (x_0, y_0, z_0)$ を通り、方向ベクトル $\\vec{d} = (l, m, n)$ を持つ直線の数式は、ベクトル形式で $\\vec{r} = \\vec{p}_0 + t\\vec{d}$ と表されます。原点を通る: この直線は原点 $(0, 0, 0)$ を通るため、$\\vec{p}_0 = (0, 0, 0)$ となります。方向ベクトル $\\vec{d} = (a, b, c)$ を用いて、上記の数式が得られます。"
   ]
  },
  {
   "cell_type": "markdown",
   "id": "21542008",
   "metadata": {},
   "source": []
  }
 ],
 "metadata": {
  "language_info": {
   "name": "python"
  }
 },
 "nbformat": 4,
 "nbformat_minor": 5
}
